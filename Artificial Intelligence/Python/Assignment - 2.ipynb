{
 "cells": [
  {
   "cell_type": "code",
   "execution_count": 1,
   "id": "ac2f1884-1f52-49bd-8d1d-8a7dec7a1cb0",
   "metadata": {},
   "outputs": [
    {
     "name": "stdout",
     "output_type": "stream",
     "text": [
      "Mars Tech \n"
     ]
    }
   ],
   "source": [
    "#print Statemen\n",
    "print(\"Mars Tech \")"
   ]
  },
  {
   "cell_type": "code",
   "execution_count": 7,
   "id": "56f40ca2-0264-45a5-8336-4ef0e235ca1f",
   "metadata": {},
   "outputs": [
    {
     "name": "stdin",
     "output_type": "stream",
     "text": [
      "Enter your institute name?  : Mars Tech\n"
     ]
    }
   ],
   "source": [
    "#Buy input \n",
    "Data = input(\"Enter your institute name?  :\")"
   ]
  },
  {
   "cell_type": "code",
   "execution_count": 15,
   "id": "b281f3af-bc74-4553-8a1f-77f1b7dbc3c8",
   "metadata": {},
   "outputs": [
    {
     "name": "stdin",
     "output_type": "stream",
     "text": [
      "Enter your name: RAJ\n",
      "Enter your age: 15\n",
      "Enter your school name: guru school\n",
      "Enter your drgree: B.E CSE\n"
     ]
    }
   ],
   "source": [
    "Name = input(\"Enter your name:\")\n",
    "age = input(\"Enter your age:\")\n",
    "schoolName = input(\"Enter your school name:\")\n",
    "degree = input(\"Enter your drgree:\")"
   ]
  },
  {
   "cell_type": "code",
   "execution_count": 17,
   "id": "5c16a286-499b-4145-abaa-f42bdd528266",
   "metadata": {},
   "outputs": [
    {
     "name": "stdout",
     "output_type": "stream",
     "text": [
      "a= 43\n",
      "b= 34\n",
      "add= 77\n"
     ]
    }
   ],
   "source": [
    "#Addition\n",
    "a = 43\n",
    "b = 34\n",
    "add = a + b\n",
    "print(\"a=\",a)\n",
    "print(\"b=\",b)\n",
    "print(\"add=\",add)"
   ]
  },
  {
   "cell_type": "code",
   "execution_count": 19,
   "id": "15f1e2a5-261e-45bf-bcca-d20d92a39890",
   "metadata": {},
   "outputs": [
    {
     "name": "stdout",
     "output_type": "stream",
     "text": [
      "a= 43\n",
      "b= 34\n",
      "sub= 9\n"
     ]
    }
   ],
   "source": [
    "#Subtraction\n",
    "a = 43\n",
    "b = 34\n",
    "sub = a - b\n",
    "print(\"a=\",a)\n",
    "print(\"b=\",b)\n",
    "print(\"sub=\",sub)"
   ]
  },
  {
   "cell_type": "code",
   "execution_count": 23,
   "id": "57be61f6-bb76-46fb-8e23-491ee3d21ce5",
   "metadata": {},
   "outputs": [
    {
     "name": "stdout",
     "output_type": "stream",
     "text": [
      "a= 63\n",
      "b= 97\n",
      "mul= 6111\n"
     ]
    }
   ],
   "source": [
    "#Multiplication \n",
    "a = 63\n",
    "b = 97\n",
    "mul = a * b\n",
    "print(\"a=\",a)\n",
    "print(\"b=\",b)\n",
    "print(\"mul=\",mul)"
   ]
  },
  {
   "cell_type": "code",
   "execution_count": 31,
   "id": "a720486e-1280-49ef-81f9-d0ee68dd6967",
   "metadata": {},
   "outputs": [
    {
     "name": "stdout",
     "output_type": "stream",
     "text": [
      "a= 76\n",
      "b= 31\n",
      "Float Div = 2.4516129032258065\n"
     ]
    }
   ],
   "source": [
    "#Division \n",
    "a = 76\n",
    "b = 31\n",
    "div = a / b\n",
    "print(\"a=\",a)\n",
    "print(\"b=\",b)\n",
    "print(\"Float Div =\",div)"
   ]
  },
  {
   "cell_type": "code",
   "execution_count": 33,
   "id": "2176d549-a661-4a0c-98df-0c67d7782858",
   "metadata": {},
   "outputs": [
    {
     "name": "stdout",
     "output_type": "stream",
     "text": [
      "a= 76\n",
      "b= 31\n",
      "Floor Div = 2\n"
     ]
    }
   ],
   "source": [
    "#Floor Division \n",
    "a = 76\n",
    "b = 31\n",
    "fDiv = a // b\n",
    "print(\"a=\",a)\n",
    "print(\"b=\",b)\n",
    "print(\"Floor Div =\",fDiv)"
   ]
  },
  {
   "cell_type": "code",
   "execution_count": 35,
   "id": "19714db6-b65a-4605-966f-100d65a364e4",
   "metadata": {},
   "outputs": [
    {
     "name": "stdout",
     "output_type": "stream",
     "text": [
      "a= 76\n",
      "b= 31\n",
      "Modulo = 14\n"
     ]
    }
   ],
   "source": [
    "#Modulo \n",
    "a = 76\n",
    "b = 31\n",
    "mod = a % b\n",
    "print(\"a=\",a)\n",
    "print(\"b=\",b)\n",
    "print(\"Modulo =\",mod)"
   ]
  },
  {
   "cell_type": "code",
   "execution_count": 39,
   "id": "8f416bd4-48dd-4329-8874-5d2ec4b618b5",
   "metadata": {},
   "outputs": [
    {
     "name": "stdout",
     "output_type": "stream",
     "text": [
      "a= 4\n",
      "b= 4\n",
      "Power = 256\n"
     ]
    }
   ],
   "source": [
    "#Power \n",
    "a = 4\n",
    "b = 4\n",
    "p = a ** b\n",
    "print(\"a=\",a)\n",
    "print(\"b=\",b)\n",
    "print(\"Power =\",p)"
   ]
  },
  {
   "cell_type": "code",
   "execution_count": null,
   "id": "dbcb51db-f439-41a0-85f8-30b3d9ed40d4",
   "metadata": {},
   "outputs": [],
   "source": []
  }
 ],
 "metadata": {
  "kernelspec": {
   "display_name": "Python [conda env:base] *",
   "language": "python",
   "name": "conda-base-py"
  },
  "language_info": {
   "codemirror_mode": {
    "name": "ipython",
    "version": 3
   },
   "file_extension": ".py",
   "mimetype": "text/x-python",
   "name": "python",
   "nbconvert_exporter": "python",
   "pygments_lexer": "ipython3",
   "version": "3.12.7"
  }
 },
 "nbformat": 4,
 "nbformat_minor": 5
}
