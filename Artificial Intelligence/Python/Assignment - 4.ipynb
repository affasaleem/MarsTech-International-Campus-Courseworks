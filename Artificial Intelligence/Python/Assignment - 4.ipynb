{
 "cells": [
  {
   "cell_type": "code",
   "execution_count": 1,
   "id": "c6bca376-c4e4-4b33-942d-a92b4bd0b2be",
   "metadata": {},
   "outputs": [
    {
     "name": "stdout",
     "output_type": "stream",
     "text": [
      "Value: 10\n",
      "CORRECT\n"
     ]
    }
   ],
   "source": [
    "# print ‘CORRECT’ if i == 10 \n",
    "i = 10 \n",
    "print(\"Value:\",i)\n",
    "if i == 10:\n",
    "    print(\"CORRECT\")"
   ]
  },
  {
   "cell_type": "code",
   "execution_count": 11,
   "id": "2336e64d-f45d-46fb-8fb6-4629d10ddc75",
   "metadata": {},
   "outputs": [
    {
     "name": "stdin",
     "output_type": "stream",
     "text": [
      "Enter the password: marstech@123\n"
     ]
    },
    {
     "name": "stdout",
     "output_type": "stream",
     "text": [
      "CORRECT\n"
     ]
    }
   ],
   "source": [
    "# Check the password, using if and else \n",
    "pw1 = \"marstech@123\" \n",
    "pw2 = input(\"Enter the password:\")\n",
    "\n",
    "if pw1 == pw2:\n",
    "    print(\"CORRECT\")\n",
    "\n",
    "else:\n",
    "    print(\"INCORRECT\")"
   ]
  },
  {
   "cell_type": "code",
   "execution_count": 49,
   "id": "47b9fedb-2f0b-4427-bc73-9b990dc07d3e",
   "metadata": {},
   "outputs": [
    {
     "name": "stdin",
     "output_type": "stream",
     "text": [
      "Age: 30\n"
     ]
    },
    {
     "name": "stdout",
     "output_type": "stream",
     "text": [
      "Adult\n"
     ]
    }
   ],
   "source": [
    "# Catagory the people by their age like children, adult, citizen, senior citizen... \n",
    "age = int(input(\"Age:\"))\n",
    "if age<18:\n",
    "    print(\"Children\")\n",
    "\n",
    "elif (age<25 | age>18):\n",
    "    print(\"Adult\")\n",
    "\n",
    "elif (age<40 | age>25):\n",
    "    print (\"Citizen\")\n",
    "\n",
    "else:\n",
    "    print(\"senior citizen\")"
   ]
  },
  {
   "cell_type": "code",
   "execution_count": 25,
   "id": "640af958-71af-4e91-bdad-e8c94832a89f",
   "metadata": {},
   "outputs": [
    {
     "name": "stdin",
     "output_type": "stream",
     "text": [
      "Enter any number: 1\n"
     ]
    },
    {
     "name": "stdout",
     "output_type": "stream",
     "text": [
      "The number is positive.\n"
     ]
    }
   ],
   "source": [
    "# Find whether given number is positive or negative \n",
    "numb = int(input(\"Enter any number:\"))\n",
    "if numb > 0:\n",
    "    print(\"No is positive.\")\n",
    "elif number < 0:\n",
    "    print(\"No is negative.\")\n",
    "else:\n",
    "    print(\"No is zero.\")"
   ]
  },
  {
   "cell_type": "code",
   "execution_count": 27,
   "id": "60c5a3a7-2240-43b5-be2c-dcae7be004bb",
   "metadata": {},
   "outputs": [
    {
     "name": "stdin",
     "output_type": "stream",
     "text": [
      "Enter a number to check: 22\n"
     ]
    },
    {
     "name": "stdout",
     "output_type": "stream",
     "text": [
      "No is not divisible by 5 \n"
     ]
    }
   ],
   "source": [
    "# Check whether the given number is divisible by 5 \n",
    "numb = int(input(\"Enter a number to check:\"))\n",
    "if (numb % 5)==0:\n",
    "    print(\"No is divisible by 5 \")\n",
    "else:\n",
    "    print(\"No is not divisible by 5 \")"
   ]
  },
  {
   "cell_type": "code",
   "execution_count": null,
   "id": "b636c7f7-2381-4184-bffd-47b083840071",
   "metadata": {},
   "outputs": [],
   "source": []
  }
 ],
 "metadata": {
  "kernelspec": {
   "display_name": "Python [conda env:base] *",
   "language": "python",
   "name": "conda-base-py"
  },
  "language_info": {
   "codemirror_mode": {
    "name": "ipython",
    "version": 3
   },
   "file_extension": ".py",
   "mimetype": "text/x-python",
   "name": "python",
   "nbconvert_exporter": "python",
   "pygments_lexer": "ipython3",
   "version": "3.12.7"
  }
 },
 "nbformat": 4,
 "nbformat_minor": 5
}
