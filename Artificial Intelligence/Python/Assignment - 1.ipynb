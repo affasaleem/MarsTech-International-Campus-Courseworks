{
 "cells": [
  {
   "cell_type": "code",
   "execution_count": 1,
   "id": "018cb729-1d86-46b1-a204-31a6507863ae",
   "metadata": {},
   "outputs": [
    {
     "name": "stdout",
     "output_type": "stream",
     "text": [
      "Welcome to Assignment-1\n"
     ]
    }
   ],
   "source": [
    "print(\"Welcome to Assignment-1\")"
   ]
  },
  {
   "cell_type": "code",
   "execution_count": 11,
   "id": "b6924f78-4f6d-4a57-846f-34debe5bd779",
   "metadata": {},
   "outputs": [
    {
     "name": "stdout",
     "output_type": "stream",
     "text": [
      "Num1= 10\n",
      "Num2= 30\n",
      "Add= 40\n"
     ]
    }
   ],
   "source": [
    "Num1= 10 \n",
    "Num2= 30\n",
    "Add = Num1+Num2\n",
    "print(\"Num1=\",Num1)\n",
    "print(\"Num2=\",Num2)\n",
    "print(\"Add=\",Add)\n",
    "#Add= 40"
   ]
  },
  {
   "cell_type": "code",
   "execution_count": null,
   "id": "94d40f30-7e0c-4c1a-96d6-f540a99bf385",
   "metadata": {},
   "outputs": [],
   "source": [
    "#Body Mass Index \n",
    "#Enter the BMI Index:34 \n",
    "#Very Overweight "
   ]
  },
  {
   "cell_type": "code",
   "execution_count": 23,
   "id": "d32265b2-7859-424e-bbb6-fb6773fc0e91",
   "metadata": {},
   "outputs": [
    {
     "name": "stdin",
     "output_type": "stream",
     "text": [
      "Enter the BMI Index: 34\n"
     ]
    },
    {
     "name": "stdout",
     "output_type": "stream",
     "text": [
      "Very Overweight\n"
     ]
    }
   ],
   "source": [
    "BMI=int (input(\"Enter the BMI Index:\"))\n",
    "if BMI <18:\n",
    "    print(\"Underweight\")\n",
    "\n",
    "elif (18< BMI <=25):\n",
    "    print (\"Healthy weight\")\n",
    "\n",
    "elif (25< BMI <=30):\n",
    "    print (\"Overweight\")\n",
    "    \n",
    "else:\n",
    "    print (\"Very Overweight\")\n"
   ]
  },
  {
   "cell_type": "code",
   "execution_count": null,
   "id": "597023d2-f892-4b78-956f-9e2db80341fb",
   "metadata": {},
   "outputs": [],
   "source": []
  }
 ],
 "metadata": {
  "kernelspec": {
   "display_name": "Python [conda env:base] *",
   "language": "python",
   "name": "conda-base-py"
  },
  "language_info": {
   "codemirror_mode": {
    "name": "ipython",
    "version": 3
   },
   "file_extension": ".py",
   "mimetype": "text/x-python",
   "name": "python",
   "nbconvert_exporter": "python",
   "pygments_lexer": "ipython3",
   "version": "3.12.7"
  }
 },
 "nbformat": 4,
 "nbformat_minor": 5
}
