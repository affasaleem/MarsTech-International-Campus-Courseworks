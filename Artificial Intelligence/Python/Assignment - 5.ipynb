{
 "cells": [
  {
   "cell_type": "code",
   "execution_count": 1,
   "id": "7a57e395-2748-4e43-838d-5c8a0a39d8f3",
   "metadata": {},
   "outputs": [],
   "source": [
    "class SubfieldsInAI():\n",
    "    def Subfields():\n",
    "        fields = ['Machine Learning', 'Neural Networks', 'Vision',\n",
    "                  'Robotics', 'Speech Processing', 'Natural Language Processing']\n",
    "        print(\"Sub-fields in AI are:\")\n",
    "        for temp in fields:\n",
    "            print(temp)      "
   ]
  },
  {
   "cell_type": "code",
   "execution_count": 4,
   "id": "6c041f78-1d64-44ef-aefe-6ef22a4be9d7",
   "metadata": {},
   "outputs": [
    {
     "name": "stdout",
     "output_type": "stream",
     "text": [
      "Sub-fields in AI are:\n",
      "Machine Learning\n",
      "Neural Networks\n",
      "Vision\n",
      "Robotics\n",
      "Speech Processing\n",
      "Natural Language Processing\n"
     ]
    }
   ],
   "source": [
    "SubfieldsInAI.Subfields()"
   ]
  },
  {
   "cell_type": "code",
   "execution_count": 7,
   "id": "ebcc8144-b865-4f39-8f75-cdbc7d14202e",
   "metadata": {},
   "outputs": [],
   "source": [
    "# Create a function that checks whether the given number is Odd or Even \n",
    "class OddEven():\n",
    "    def OddEven():\n",
    "        num = int(input(\"Enter a number: \"))\n",
    "        if num%2==0:\n",
    "            print(num,\"is Even number\")\n",
    "            \n",
    "        else:\n",
    "            print(num,\"is Odd number\")\n",
    "            "
   ]
  },
  {
   "cell_type": "code",
   "execution_count": 9,
   "id": "8f5c009f-65ef-4e86-8126-b51ff7dfe885",
   "metadata": {},
   "outputs": [
    {
     "name": "stdin",
     "output_type": "stream",
     "text": [
      "Enter a number:  52452\n"
     ]
    },
    {
     "name": "stdout",
     "output_type": "stream",
     "text": [
      "52452 is Even number\n"
     ]
    }
   ],
   "source": [
    "OddEven.OddEven()"
   ]
  },
  {
   "cell_type": "code",
   "execution_count": null,
   "id": "3ead469b-0406-4b6e-b9c9-7612c94aace2",
   "metadata": {},
   "outputs": [],
   "source": [
    "# Create a function that tells elegibility of marriage for male and female according to their age limit like 21 for male and in for female "
   ]
  },
  {
   "cell_type": "code",
   "execution_count": 69,
   "id": "5673dfef-d914-46b8-8324-d080f2842558",
   "metadata": {},
   "outputs": [],
   "source": [
    "class ElegiblityForMarriage():\n",
    "    def Elegible():\n",
    "        gender= str (input(\"Your Gender:\"))\n",
    "        age=int (input(\"Your Age: \"))\n",
    "        if gender == \"male\" :\n",
    "            if age >= 21:\n",
    "                print(\"ELIGIBLE\")\n",
    "            else:\n",
    "                print(\"NOT ELIGIBLE\")\n",
    "        elif gender == \"female\" :\n",
    "            if age >= 21:\n",
    "                print(\"ELIGIBLE\")\n",
    "            else:\n",
    "                print(\"NOT ELIGIBLE\")\n",
    "        else:\n",
    "            print(\"INVALID INPUT\")"
   ]
  },
  {
   "cell_type": "code",
   "execution_count": 71,
   "id": "6168339c-e7a7-4b07-87fe-c6c558bcf3da",
   "metadata": {},
   "outputs": [
    {
     "name": "stdin",
     "output_type": "stream",
     "text": [
      "Your Gender: male\n",
      "Your Age:  20\n"
     ]
    },
    {
     "name": "stdout",
     "output_type": "stream",
     "text": [
      "NOT ELIGIBLE\n"
     ]
    }
   ],
   "source": [
    "ElegiblityForMarriage.Elegible() "
   ]
  },
  {
   "cell_type": "code",
   "execution_count": null,
   "id": "6db720ab-d8b7-40ad-935b-bdfaef256002",
   "metadata": {},
   "outputs": [],
   "source": [
    "# calculate the percentage of your 16th mark "
   ]
  },
  {
   "cell_type": "code",
   "execution_count": 97,
   "id": "cc7c1daf-36df-4066-9e9d-2ad1bb98c83c",
   "metadata": {},
   "outputs": [],
   "source": [
    "class FindPercent():\n",
    "    def percentage():\n",
    "        s1 = int(input(\"Subject1:\"))\n",
    "        s2 = int(input(\"Subject2:\"))\n",
    "        s3 = int(input(\"Subject3:\"))\n",
    "        s4 = int(input(\"Subject4:\"))\n",
    "        s5 = int(input(\"Subject5:\"))\n",
    "        t = s1+s2+s3+s4+s5\n",
    "        print(\"Total:\",t)\n",
    "        p = (t/100)*20\n",
    "        print(\"Percentage: \",p)"
   ]
  },
  {
   "cell_type": "code",
   "execution_count": 99,
   "id": "5221782a-f8d0-4914-a985-81956a9250db",
   "metadata": {},
   "outputs": [
    {
     "name": "stdin",
     "output_type": "stream",
     "text": [
      "Subject1: 98\n",
      "Subject2: 87\n",
      "Subject3: 95\n",
      "Subject4: 95\n",
      "Subject5: 93\n"
     ]
    },
    {
     "name": "stdout",
     "output_type": "stream",
     "text": [
      "Total: 468\n",
      "Percentage: \f",
      " 93.6\n"
     ]
    }
   ],
   "source": [
    "FindPercent.percentage() "
   ]
  },
  {
   "cell_type": "code",
   "execution_count": null,
   "id": "4ffe723f-bdaa-46bc-83ba-92213850727a",
   "metadata": {},
   "outputs": [],
   "source": [
    "# print area and perimeter of triangle using class and functions"
   ]
  },
  {
   "cell_type": "code",
   "execution_count": 101,
   "id": "9fc929f5-4054-4032-8673-3a0db69f8c8e",
   "metadata": {},
   "outputs": [],
   "source": [
    "class triangle():\n",
    "    def triangle():\n",
    "        h = int(input(\"Height:\"))\n",
    "        b = int(input(\"Breadth:\"))\n",
    "        print(\"Area formula: (Height* Breadth)/2 \")\n",
    "        a = (h*b)/2\n",
    "        print(\"Area of Triangle:\",a)\n",
    "        \n",
    "        h1 = int(input(\"Height1:\"))\n",
    "        h2 = int(input(\"Height2:\"))\n",
    "        b1 = int(input(\"Breadth:\"))\n",
    "        print(\"Perimeter formula: Height1+Height2+Breadth \")\n",
    "        p = h1+h2+b1\n",
    "        print(\"Perimeter of Triangle: \",p)"
   ]
  },
  {
   "cell_type": "code",
   "execution_count": 103,
   "id": "799d7523-13dd-43fa-8ed3-ae38cef588cd",
   "metadata": {},
   "outputs": [
    {
     "name": "stdin",
     "output_type": "stream",
     "text": [
      "Height: 32\n",
      "Breadth: 34\n"
     ]
    },
    {
     "name": "stdout",
     "output_type": "stream",
     "text": [
      "Area formula: (Height* Breadth)/2 \n",
      "Area of Triangle: 544.0\n"
     ]
    },
    {
     "name": "stdin",
     "output_type": "stream",
     "text": [
      "Height1: 2\n",
      "Height2: 4\n",
      "Breadth: 4\n"
     ]
    },
    {
     "name": "stdout",
     "output_type": "stream",
     "text": [
      "Perimeter formula: Height1+Height2+Breadth \n",
      "Perimeter of Triangle:  10\n"
     ]
    }
   ],
   "source": [
    "triangle.triangle()"
   ]
  },
  {
   "cell_type": "code",
   "execution_count": null,
   "id": "0b0f44dd-fa08-46f8-a2e8-9b6767376cb6",
   "metadata": {},
   "outputs": [],
   "source": []
  }
 ],
 "metadata": {
  "kernelspec": {
   "display_name": "Python [conda env:base] *",
   "language": "python",
   "name": "conda-base-py"
  },
  "language_info": {
   "codemirror_mode": {
    "name": "ipython",
    "version": 3
   },
   "file_extension": ".py",
   "mimetype": "text/x-python",
   "name": "python",
   "nbconvert_exporter": "python",
   "pygments_lexer": "ipython3",
   "version": "3.12.7"
  }
 },
 "nbformat": 4,
 "nbformat_minor": 5
}
