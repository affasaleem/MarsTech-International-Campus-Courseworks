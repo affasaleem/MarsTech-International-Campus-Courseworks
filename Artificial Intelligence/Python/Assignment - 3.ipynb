{
 "cells": [
  {
   "cell_type": "code",
   "execution_count": 3,
   "id": "312a50ce-2a4f-4221-8a20-a8d837dcac89",
   "metadata": {},
   "outputs": [
    {
     "name": "stdout",
     "output_type": "stream",
     "text": [
      "0\n",
      "1\n",
      "2\n",
      "3\n",
      "4\n",
      "5\n",
      "6\n",
      "7\n",
      "8\n",
      "9\n",
      "10\n",
      "11\n",
      "12\n",
      "13\n",
      "14\n",
      "15\n",
      "16\n",
      "17\n",
      "18\n",
      "19\n",
      "20\n"
     ]
    }
   ],
   "source": [
    " #print 0 to 20 by using range \n",
    "for num in range(21):\n",
    "    print(num)"
   ]
  },
  {
   "cell_type": "code",
   "execution_count": 37,
   "id": "230c30dd-86f1-43db-acdb-065b7001a149",
   "metadata": {},
   "outputs": [
    {
     "name": "stdout",
     "output_type": "stream",
     "text": [
      "10\n",
      "11\n",
      "12\n",
      "13\n",
      "14\n",
      "15\n",
      "16\n",
      "17\n",
      "18\n",
      "19\n"
     ]
    }
   ],
   "source": [
    "# print range 10 to 20 \n",
    "for num in range(10, 20):\n",
    "    print(num)"
   ]
  },
  {
   "cell_type": "code",
   "execution_count": 21,
   "id": "f958274c-a697-4c3f-8874-a372bb3217a7",
   "metadata": {},
   "outputs": [
    {
     "name": "stdout",
     "output_type": "stream",
     "text": [
      "[10, 20, 14, 55, 43, 87, 76]\n",
      "Number of items in the List2: 7\n"
     ]
    }
   ],
   "source": [
    "# print number of items in the list by using ‘len’ \n",
    "List2 = [10, 20, 14, 55, 43, 87, 76] \n",
    "print(List2)\n",
    "print(\"Number of items in the List2:\", len(List2))"
   ]
  },
  {
   "cell_type": "code",
   "execution_count": 33,
   "id": "721f5fcd-0c54-4799-8863-660a90a816ed",
   "metadata": {},
   "outputs": [
    {
     "name": "stdout",
     "output_type": "stream",
     "text": [
      "Artificial Intelligence\n",
      "A\n",
      "r\n",
      "t\n",
      "i\n",
      "f\n",
      "i\n",
      "c\n",
      "i\n",
      "a\n",
      "l\n",
      " \n",
      "I\n",
      "n\n",
      "t\n",
      "e\n",
      "l\n",
      "l\n",
      "i\n",
      "g\n",
      "e\n",
      "n\n",
      "c\n",
      "e\n"
     ]
    }
   ],
   "source": [
    "data = \"Artificial Intelligence\"\n",
    "print(data)\n",
    "for AI in data:\n",
    "    print(AI)"
   ]
  },
  {
   "cell_type": "code",
   "execution_count": 39,
   "id": "5458e17d-01af-4aa6-a038-165347d6d68d",
   "metadata": {},
   "outputs": [
    {
     "name": "stdout",
     "output_type": "stream",
     "text": [
      "-Your Name-\n",
      "-Your Age-\n",
      "-Your Profession-\n"
     ]
    }
   ],
   "source": [
    "print(\"-Your Name-\")\n",
    "print(\"-Your Age-\")\n",
    "print(\"-Your Profession-\")"
   ]
  },
  {
   "cell_type": "code",
   "execution_count": 3,
   "id": "51dbe358-0315-4d38-8d11-d6284df50fe4",
   "metadata": {},
   "outputs": [
    {
     "name": "stdout",
     "output_type": "stream",
     "text": [
      "(1, 'Welcome', 2, 'mars tech')\n"
     ]
    }
   ],
   "source": [
    "# Print yhis mixered datatype using Tuples \n",
    "tuple0 = (1, 'Welcome' ,  2, 'mars tech')\n",
    "print(tuple0)"
   ]
  },
  {
   "cell_type": "code",
   "execution_count": 17,
   "id": "70ecdc6e-7289-4d0d-8241-6c05eb29c1d2",
   "metadata": {},
   "outputs": [
    {
     "name": "stdout",
     "output_type": "stream",
     "text": [
      "((0, 1, 2, 3), ('python', 'mars tech'))\n"
     ]
    }
   ],
   "source": [
    "Tuple1 = (0,1,2,3)\n",
    "Tuple2 = ('python', 'mars tech') \n",
    "Tuple3 = (Tuple1,Tuple2)\n",
    "print(Tuple3)"
   ]
  },
  {
   "cell_type": "code",
   "execution_count": 7,
   "id": "86b6ad9d-5297-4a72-a555-18ba0bfc60e3",
   "metadata": {},
   "outputs": [
    {
     "name": "stdout",
     "output_type": "stream",
     "text": [
      "19 is odd\n",
      "25 is odd\n",
      "1 is odd\n"
     ]
    }
   ],
   "source": [
    "# print Odd Numbers in the list \n",
    "list=(20,10,16,19,25,1,276,188)\n",
    "for i in list:\n",
    "    if i%2 != 0:\n",
    "        print(i,\"is odd\")\n"
   ]
  },
  {
   "cell_type": "code",
   "execution_count": 1,
   "id": "0e6f70d7-cf2e-4811-8647-55449c706441",
   "metadata": {},
   "outputs": [
    {
     "name": "stdout",
     "output_type": "stream",
     "text": [
      "20 is even\n",
      "10 is even\n",
      "16 is even\n",
      "276 is even\n",
      "188 is even\n"
     ]
    }
   ],
   "source": [
    "# print Even numbers in the list \n",
    "list=(20,10,16,19,25,1,276,188)\n",
    "for i in list:\n",
    "    if i%2 == 0:\n",
    "        print(i,\"is even\")\n"
   ]
  },
  {
   "cell_type": "code",
   "execution_count": null,
   "id": "26ab9117-d4e7-4a43-a762-dea3538cbb14",
   "metadata": {},
   "outputs": [],
   "source": []
  }
 ],
 "metadata": {
  "kernelspec": {
   "display_name": "Python [conda env:base] *",
   "language": "python",
   "name": "conda-base-py"
  },
  "language_info": {
   "codemirror_mode": {
    "name": "ipython",
    "version": 3
   },
   "file_extension": ".py",
   "mimetype": "text/x-python",
   "name": "python",
   "nbconvert_exporter": "python",
   "pygments_lexer": "ipython3",
   "version": "3.12.7"
  }
 },
 "nbformat": 4,
 "nbformat_minor": 5
}
